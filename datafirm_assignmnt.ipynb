{
 "cells": [
  {
   "cell_type": "code",
   "execution_count": 4,
   "metadata": {},
   "outputs": [],
   "source": [
    "data_file = \"/media/stormfield/Data/resources/lastfm/userid-timestamp-artid-artname-traid-traname.tsv\""
   ]
  },
  {
   "cell_type": "code",
   "execution_count": 5,
   "metadata": {},
   "outputs": [],
   "source": [
    "import pandas as pd"
   ]
  },
  {
   "cell_type": "code",
   "execution_count": 7,
   "metadata": {},
   "outputs": [],
   "source": [
    "raw_df = pd.read_csv(data_file,\n",
    "                     low_memory=False, \n",
    "                     sep='\\t', names=['user_id','timestamp','artist_id','artist', 'track_id','track'],\n",
    "                     parse_dates=['timestamp'])"
   ]
  },
  {
   "cell_type": "markdown",
   "metadata": {},
   "source": [
    "since it took a while to read. lets quickly check the memory and see of there are any improvemnts we can make"
   ]
  },
  {
   "cell_type": "markdown",
   "metadata": {},
   "source": [
    "## Data exploration"
   ]
  },
  {
   "cell_type": "markdown",
   "metadata": {},
   "source": [
    "First lets gets some information regarding the dtypes and memeory involed"
   ]
  },
  {
   "cell_type": "code",
   "execution_count": 10,
   "metadata": {},
   "outputs": [
    {
     "name": "stdout",
     "output_type": "stream",
     "text": [
      "<class 'pandas.core.frame.DataFrame'>\n",
      "RangeIndex: 19098862 entries, 0 to 19098861\n",
      "Data columns (total 6 columns):\n",
      "user_id      object\n",
      "timestamp    datetime64[ns, UTC]\n",
      "artist_id    object\n",
      "artist       object\n",
      "track_id     object\n",
      "track        object\n",
      "dtypes: datetime64[ns, UTC](1), object(5)\n",
      "memory usage: 7.1 GB\n"
     ]
    }
   ],
   "source": [
    "raw_df.info(memory_usage='deep')"
   ]
  },
  {
   "cell_type": "markdown",
   "metadata": {},
   "source": [
    "Since we are time bound, we will optimize for memory if required later. For now this can be easily handled by most morden machines."
   ]
  },
  {
   "cell_type": "markdown",
   "metadata": {},
   "source": [
    "lets take a look at how the data looks like."
   ]
  },
  {
   "cell_type": "code",
   "execution_count": 15,
   "metadata": {},
   "outputs": [
    {
     "data": {
      "text/html": [
       "<div>\n",
       "<style scoped>\n",
       "    .dataframe tbody tr th:only-of-type {\n",
       "        vertical-align: middle;\n",
       "    }\n",
       "\n",
       "    .dataframe tbody tr th {\n",
       "        vertical-align: top;\n",
       "    }\n",
       "\n",
       "    .dataframe thead th {\n",
       "        text-align: right;\n",
       "    }\n",
       "</style>\n",
       "<table border=\"1\" class=\"dataframe\">\n",
       "  <thead>\n",
       "    <tr style=\"text-align: right;\">\n",
       "      <th></th>\n",
       "      <th>user_id</th>\n",
       "      <th>timestamp</th>\n",
       "      <th>artist_id</th>\n",
       "      <th>artist</th>\n",
       "      <th>track_id</th>\n",
       "      <th>track</th>\n",
       "    </tr>\n",
       "  </thead>\n",
       "  <tbody>\n",
       "    <tr>\n",
       "      <th>13330652</th>\n",
       "      <td>user_000704</td>\n",
       "      <td>2007-06-06 00:25:51+00:00</td>\n",
       "      <td>172e1f1a-504d-4488-b053-6344ba63e6d0</td>\n",
       "      <td>Nick Cave &amp; The Bad Seeds</td>\n",
       "      <td>b41dcee8-716b-4e24-b34e-2d603e30b4a3</td>\n",
       "      <td>Deanna</td>\n",
       "    </tr>\n",
       "    <tr>\n",
       "      <th>5349985</th>\n",
       "      <td>user_000274</td>\n",
       "      <td>2007-10-11 20:02:14+00:00</td>\n",
       "      <td>f4c967a4-7591-4bba-8237-82e171a2fa7f</td>\n",
       "      <td>X-Ray Spex</td>\n",
       "      <td>1c6df6d6-d89e-44ed-9dca-0bb5d7260760</td>\n",
       "      <td>Oh Bondage Up Yours!</td>\n",
       "    </tr>\n",
       "    <tr>\n",
       "      <th>16655117</th>\n",
       "      <td>user_000861</td>\n",
       "      <td>2007-03-07 12:02:51+00:00</td>\n",
       "      <td>2865730a-5757-4005-875e-84d6274cb1c0</td>\n",
       "      <td>Revolting Cocks</td>\n",
       "      <td>10267304-f269-41a8-a2c5-a026f0a69bed</td>\n",
       "      <td>You Often Forget (Malignant)</td>\n",
       "    </tr>\n",
       "    <tr>\n",
       "      <th>18288441</th>\n",
       "      <td>user_000950</td>\n",
       "      <td>2007-04-07 17:31:29+00:00</td>\n",
       "      <td>NaN</td>\n",
       "      <td>Consul The Educated Monkey</td>\n",
       "      <td>NaN</td>\n",
       "      <td>Poema De La Tormenta</td>\n",
       "    </tr>\n",
       "    <tr>\n",
       "      <th>14013489</th>\n",
       "      <td>user_000743</td>\n",
       "      <td>2007-12-20 21:47:07+00:00</td>\n",
       "      <td>006f0783-c5a0-458b-a9da-f8551f7ebe77</td>\n",
       "      <td>Richard Hawley</td>\n",
       "      <td>4f45ddfd-53d5-471c-83e2-4d976b818211</td>\n",
       "      <td>The Sun Refused To Shine</td>\n",
       "    </tr>\n",
       "  </tbody>\n",
       "</table>\n",
       "</div>"
      ],
      "text/plain": [
       "              user_id                 timestamp  \\\n",
       "13330652  user_000704 2007-06-06 00:25:51+00:00   \n",
       "5349985   user_000274 2007-10-11 20:02:14+00:00   \n",
       "16655117  user_000861 2007-03-07 12:02:51+00:00   \n",
       "18288441  user_000950 2007-04-07 17:31:29+00:00   \n",
       "14013489  user_000743 2007-12-20 21:47:07+00:00   \n",
       "\n",
       "                                     artist_id                      artist  \\\n",
       "13330652  172e1f1a-504d-4488-b053-6344ba63e6d0   Nick Cave & The Bad Seeds   \n",
       "5349985   f4c967a4-7591-4bba-8237-82e171a2fa7f                  X-Ray Spex   \n",
       "16655117  2865730a-5757-4005-875e-84d6274cb1c0             Revolting Cocks   \n",
       "18288441                                   NaN  Consul The Educated Monkey   \n",
       "14013489  006f0783-c5a0-458b-a9da-f8551f7ebe77              Richard Hawley   \n",
       "\n",
       "                                      track_id                         track  \n",
       "13330652  b41dcee8-716b-4e24-b34e-2d603e30b4a3                        Deanna  \n",
       "5349985   1c6df6d6-d89e-44ed-9dca-0bb5d7260760          Oh Bondage Up Yours!  \n",
       "16655117  10267304-f269-41a8-a2c5-a026f0a69bed  You Often Forget (Malignant)  \n",
       "18288441                                   NaN          Poema De La Tormenta  \n",
       "14013489  4f45ddfd-53d5-471c-83e2-4d976b818211      The Sun Refused To Shine  "
      ]
     },
     "execution_count": 15,
     "metadata": {},
     "output_type": "execute_result"
    }
   ],
   "source": [
    "raw_df.sample(5)"
   ]
  },
  {
   "cell_type": "markdown",
   "metadata": {},
   "source": [
    "### Statistics of each column\n",
    "<a id='staticstics_cell'></a>"
   ]
  },
  {
   "cell_type": "code",
   "execution_count": 20,
   "metadata": {},
   "outputs": [
    {
     "data": {
      "text/html": [
       "<div>\n",
       "<style scoped>\n",
       "    .dataframe tbody tr th:only-of-type {\n",
       "        vertical-align: middle;\n",
       "    }\n",
       "\n",
       "    .dataframe tbody tr th {\n",
       "        vertical-align: top;\n",
       "    }\n",
       "\n",
       "    .dataframe thead th {\n",
       "        text-align: right;\n",
       "    }\n",
       "</style>\n",
       "<table border=\"1\" class=\"dataframe\">\n",
       "  <thead>\n",
       "    <tr style=\"text-align: right;\">\n",
       "      <th></th>\n",
       "      <th>user_id</th>\n",
       "      <th>timestamp</th>\n",
       "      <th>artist_id</th>\n",
       "      <th>artist</th>\n",
       "      <th>track_id</th>\n",
       "      <th>track</th>\n",
       "    </tr>\n",
       "  </thead>\n",
       "  <tbody>\n",
       "    <tr>\n",
       "      <th>count</th>\n",
       "      <td>19098862</td>\n",
       "      <td>19098862</td>\n",
       "      <td>18498009</td>\n",
       "      <td>19098862</td>\n",
       "      <td>16936136</td>\n",
       "      <td>19098850</td>\n",
       "    </tr>\n",
       "    <tr>\n",
       "      <th>unique</th>\n",
       "      <td>992</td>\n",
       "      <td>17454739</td>\n",
       "      <td>107295</td>\n",
       "      <td>173923</td>\n",
       "      <td>960402</td>\n",
       "      <td>1083480</td>\n",
       "    </tr>\n",
       "    <tr>\n",
       "      <th>top</th>\n",
       "      <td>user_000949</td>\n",
       "      <td>2009-02-26 21:29:15+00:00</td>\n",
       "      <td>a74b1b7f-71a5-4011-9441-d0b5e4122711</td>\n",
       "      <td>Radiohead</td>\n",
       "      <td>db16d0b3-b8ce-4aa8-a11a-e4d53cc7f8a6</td>\n",
       "      <td>Intro</td>\n",
       "    </tr>\n",
       "    <tr>\n",
       "      <th>freq</th>\n",
       "      <td>183103</td>\n",
       "      <td>248</td>\n",
       "      <td>115099</td>\n",
       "      <td>115099</td>\n",
       "      <td>3991</td>\n",
       "      <td>17561</td>\n",
       "    </tr>\n",
       "    <tr>\n",
       "      <th>first</th>\n",
       "      <td>NaN</td>\n",
       "      <td>2005-02-14 00:00:07+00:00</td>\n",
       "      <td>NaN</td>\n",
       "      <td>NaN</td>\n",
       "      <td>NaN</td>\n",
       "      <td>NaN</td>\n",
       "    </tr>\n",
       "    <tr>\n",
       "      <th>last</th>\n",
       "      <td>NaN</td>\n",
       "      <td>2013-09-29 18:32:04+00:00</td>\n",
       "      <td>NaN</td>\n",
       "      <td>NaN</td>\n",
       "      <td>NaN</td>\n",
       "      <td>NaN</td>\n",
       "    </tr>\n",
       "  </tbody>\n",
       "</table>\n",
       "</div>"
      ],
      "text/plain": [
       "            user_id                  timestamp  \\\n",
       "count      19098862                   19098862   \n",
       "unique          992                   17454739   \n",
       "top     user_000949  2009-02-26 21:29:15+00:00   \n",
       "freq         183103                        248   \n",
       "first           NaN  2005-02-14 00:00:07+00:00   \n",
       "last            NaN  2013-09-29 18:32:04+00:00   \n",
       "\n",
       "                                   artist_id     artist  \\\n",
       "count                               18498009   19098862   \n",
       "unique                                107295     173923   \n",
       "top     a74b1b7f-71a5-4011-9441-d0b5e4122711  Radiohead   \n",
       "freq                                  115099     115099   \n",
       "first                                    NaN        NaN   \n",
       "last                                     NaN        NaN   \n",
       "\n",
       "                                    track_id     track  \n",
       "count                               16936136  19098850  \n",
       "unique                                960402   1083480  \n",
       "top     db16d0b3-b8ce-4aa8-a11a-e4d53cc7f8a6     Intro  \n",
       "freq                                    3991     17561  \n",
       "first                                    NaN       NaN  \n",
       "last                                     NaN       NaN  "
      ]
     },
     "execution_count": 20,
     "metadata": {},
     "output_type": "execute_result"
    }
   ],
   "source": [
    "raw_df.describe()"
   ]
  },
  {
   "cell_type": "markdown",
   "metadata": {},
   "source": [
    "#### 1. Check for nulls"
   ]
  },
  {
   "cell_type": "code",
   "execution_count": 21,
   "metadata": {},
   "outputs": [
    {
     "data": {
      "text/plain": [
       "user_id            0\n",
       "timestamp          0\n",
       "artist_id     600853\n",
       "artist             0\n",
       "track_id     2162726\n",
       "track             12\n",
       "dtype: int64"
      ]
     },
     "execution_count": 21,
     "metadata": {},
     "output_type": "execute_result"
    }
   ],
   "source": [
    "raw_df.isnull().sum()"
   ]
  },
  {
   "cell_type": "code",
   "execution_count": 23,
   "metadata": {},
   "outputs": [
    {
     "data": {
      "text/html": [
       "<div>\n",
       "<style scoped>\n",
       "    .dataframe tbody tr th:only-of-type {\n",
       "        vertical-align: middle;\n",
       "    }\n",
       "\n",
       "    .dataframe tbody tr th {\n",
       "        vertical-align: top;\n",
       "    }\n",
       "\n",
       "    .dataframe thead th {\n",
       "        text-align: right;\n",
       "    }\n",
       "</style>\n",
       "<table border=\"1\" class=\"dataframe\">\n",
       "  <thead>\n",
       "    <tr style=\"text-align: right;\">\n",
       "      <th></th>\n",
       "      <th>user_id</th>\n",
       "      <th>timestamp</th>\n",
       "      <th>artist_id</th>\n",
       "      <th>artist</th>\n",
       "      <th>track_id</th>\n",
       "      <th>track</th>\n",
       "    </tr>\n",
       "  </thead>\n",
       "  <tbody>\n",
       "    <tr>\n",
       "      <th>50</th>\n",
       "      <td>user_000001</td>\n",
       "      <td>2009-05-02 14:30:56+00:00</td>\n",
       "      <td>NaN</td>\n",
       "      <td>Rocket Empire</td>\n",
       "      <td>NaN</td>\n",
       "      <td>Simmer Down Jammie</td>\n",
       "    </tr>\n",
       "    <tr>\n",
       "      <th>78</th>\n",
       "      <td>user_000001</td>\n",
       "      <td>2009-05-01 11:58:15+00:00</td>\n",
       "      <td>NaN</td>\n",
       "      <td>Rocket Empire</td>\n",
       "      <td>NaN</td>\n",
       "      <td>Simmer Down Jammie</td>\n",
       "    </tr>\n",
       "    <tr>\n",
       "      <th>87</th>\n",
       "      <td>user_000001</td>\n",
       "      <td>2009-05-01 09:36:10+00:00</td>\n",
       "      <td>NaN</td>\n",
       "      <td>Rocket Empire</td>\n",
       "      <td>NaN</td>\n",
       "      <td>Simmer Down Jammie</td>\n",
       "    </tr>\n",
       "    <tr>\n",
       "      <th>92</th>\n",
       "      <td>user_000001</td>\n",
       "      <td>2009-05-01 09:12:21+00:00</td>\n",
       "      <td>NaN</td>\n",
       "      <td>Nicken</td>\n",
       "      <td>NaN</td>\n",
       "      <td>Lifeb</td>\n",
       "    </tr>\n",
       "    <tr>\n",
       "      <th>95</th>\n",
       "      <td>user_000001</td>\n",
       "      <td>2009-05-01 08:58:19+00:00</td>\n",
       "      <td>NaN</td>\n",
       "      <td>Ivan Enot</td>\n",
       "      <td>NaN</td>\n",
       "      <td>Grooves Of The Heart</td>\n",
       "    </tr>\n",
       "  </tbody>\n",
       "</table>\n",
       "</div>"
      ],
      "text/plain": [
       "        user_id                 timestamp artist_id         artist track_id  \\\n",
       "50  user_000001 2009-05-02 14:30:56+00:00       NaN  Rocket Empire      NaN   \n",
       "78  user_000001 2009-05-01 11:58:15+00:00       NaN  Rocket Empire      NaN   \n",
       "87  user_000001 2009-05-01 09:36:10+00:00       NaN  Rocket Empire      NaN   \n",
       "92  user_000001 2009-05-01 09:12:21+00:00       NaN         Nicken      NaN   \n",
       "95  user_000001 2009-05-01 08:58:19+00:00       NaN      Ivan Enot      NaN   \n",
       "\n",
       "                   track  \n",
       "50    Simmer Down Jammie  \n",
       "78    Simmer Down Jammie  \n",
       "87    Simmer Down Jammie  \n",
       "92                 Lifeb  \n",
       "95  Grooves Of The Heart  "
      ]
     },
     "execution_count": 23,
     "metadata": {},
     "output_type": "execute_result"
    }
   ],
   "source": [
    "raw_df[raw_df['artist_id'].isnull()].head()"
   ]
  },
  {
   "cell_type": "markdown",
   "metadata": {},
   "source": [
    "As we can see above the artist_id & track_id have lot of nulls. Since the corresponding artist/track columns aren't null its best to drop those 'id' columns and proceed"
   ]
  },
  {
   "cell_type": "code",
   "execution_count": 24,
   "metadata": {},
   "outputs": [],
   "source": [
    "df = raw_df.drop(columns=['artist_id', 'track_id'])"
   ]
  },
  {
   "cell_type": "markdown",
   "metadata": {},
   "source": [
    "Thats much cleaner isn't it ? (PFB)"
   ]
  },
  {
   "cell_type": "code",
   "execution_count": 26,
   "metadata": {},
   "outputs": [
    {
     "data": {
      "text/html": [
       "<div>\n",
       "<style scoped>\n",
       "    .dataframe tbody tr th:only-of-type {\n",
       "        vertical-align: middle;\n",
       "    }\n",
       "\n",
       "    .dataframe tbody tr th {\n",
       "        vertical-align: top;\n",
       "    }\n",
       "\n",
       "    .dataframe thead th {\n",
       "        text-align: right;\n",
       "    }\n",
       "</style>\n",
       "<table border=\"1\" class=\"dataframe\">\n",
       "  <thead>\n",
       "    <tr style=\"text-align: right;\">\n",
       "      <th></th>\n",
       "      <th>user_id</th>\n",
       "      <th>timestamp</th>\n",
       "      <th>artist</th>\n",
       "      <th>track</th>\n",
       "    </tr>\n",
       "  </thead>\n",
       "  <tbody>\n",
       "    <tr>\n",
       "      <th>50</th>\n",
       "      <td>user_000001</td>\n",
       "      <td>2009-05-02 14:30:56+00:00</td>\n",
       "      <td>Rocket Empire</td>\n",
       "      <td>Simmer Down Jammie</td>\n",
       "    </tr>\n",
       "    <tr>\n",
       "      <th>78</th>\n",
       "      <td>user_000001</td>\n",
       "      <td>2009-05-01 11:58:15+00:00</td>\n",
       "      <td>Rocket Empire</td>\n",
       "      <td>Simmer Down Jammie</td>\n",
       "    </tr>\n",
       "    <tr>\n",
       "      <th>87</th>\n",
       "      <td>user_000001</td>\n",
       "      <td>2009-05-01 09:36:10+00:00</td>\n",
       "      <td>Rocket Empire</td>\n",
       "      <td>Simmer Down Jammie</td>\n",
       "    </tr>\n",
       "    <tr>\n",
       "      <th>102</th>\n",
       "      <td>user_000001</td>\n",
       "      <td>2009-05-01 08:18:35+00:00</td>\n",
       "      <td>Rocket Empire</td>\n",
       "      <td>Simmer Down Jammie</td>\n",
       "    </tr>\n",
       "    <tr>\n",
       "      <th>117</th>\n",
       "      <td>user_000001</td>\n",
       "      <td>2009-05-01 05:59:11+00:00</td>\n",
       "      <td>Rocket Empire</td>\n",
       "      <td>Simmer Down Jammie</td>\n",
       "    </tr>\n",
       "  </tbody>\n",
       "</table>\n",
       "</div>"
      ],
      "text/plain": [
       "         user_id                 timestamp         artist               track\n",
       "50   user_000001 2009-05-02 14:30:56+00:00  Rocket Empire  Simmer Down Jammie\n",
       "78   user_000001 2009-05-01 11:58:15+00:00  Rocket Empire  Simmer Down Jammie\n",
       "87   user_000001 2009-05-01 09:36:10+00:00  Rocket Empire  Simmer Down Jammie\n",
       "102  user_000001 2009-05-01 08:18:35+00:00  Rocket Empire  Simmer Down Jammie\n",
       "117  user_000001 2009-05-01 05:59:11+00:00  Rocket Empire  Simmer Down Jammie"
      ]
     },
     "execution_count": 26,
     "metadata": {},
     "output_type": "execute_result"
    }
   ],
   "source": [
    "df[df['artist'] == 'Rocket Empire'].head()"
   ]
  },
  {
   "cell_type": "markdown",
   "metadata": {},
   "source": [
    "### 2. Combine columns to get unique workable data"
   ]
  },
  {
   "cell_type": "markdown",
   "metadata": {},
   "source": [
    "When we pulled [staticstics](#staticstics_cell), we observerd that there is a lot of 'intro' tracks. This shouldn't be a suprising. To get unique track details we need to combine the artist & track columns"
   ]
  },
  {
   "cell_type": "markdown",
   "metadata": {},
   "source": [
    "Based on [Last Fm](https://www.last.fm/tag/sampling) and general consensus we can combine both columns using an aceeptable format, ie `Artist_name - Track_name`"
   ]
  },
  {
   "cell_type": "code",
   "execution_count": 28,
   "metadata": {},
   "outputs": [],
   "source": [
    "df['song'] = df['artist'] + ' - ' + df['track']"
   ]
  },
  {
   "cell_type": "markdown",
   "metadata": {},
   "source": [
    "lets see if the data came correct"
   ]
  },
  {
   "cell_type": "code",
   "execution_count": 31,
   "metadata": {},
   "outputs": [
    {
     "data": {
      "text/html": [
       "<div>\n",
       "<style scoped>\n",
       "    .dataframe tbody tr th:only-of-type {\n",
       "        vertical-align: middle;\n",
       "    }\n",
       "\n",
       "    .dataframe tbody tr th {\n",
       "        vertical-align: top;\n",
       "    }\n",
       "\n",
       "    .dataframe thead th {\n",
       "        text-align: right;\n",
       "    }\n",
       "</style>\n",
       "<table border=\"1\" class=\"dataframe\">\n",
       "  <thead>\n",
       "    <tr style=\"text-align: right;\">\n",
       "      <th></th>\n",
       "      <th>user_id</th>\n",
       "      <th>timestamp</th>\n",
       "      <th>artist</th>\n",
       "      <th>track</th>\n",
       "      <th>song</th>\n",
       "    </tr>\n",
       "  </thead>\n",
       "  <tbody>\n",
       "    <tr>\n",
       "      <th>11742312</th>\n",
       "      <td>user_000628</td>\n",
       "      <td>2006-08-16 14:34:33+00:00</td>\n",
       "      <td>Talking Heads</td>\n",
       "      <td>Heaven (Live)</td>\n",
       "      <td>Talking Heads - Heaven (Live)</td>\n",
       "    </tr>\n",
       "    <tr>\n",
       "      <th>17502363</th>\n",
       "      <td>user_000909</td>\n",
       "      <td>2007-03-14 04:50:23+00:00</td>\n",
       "      <td>Radiohead</td>\n",
       "      <td>Just</td>\n",
       "      <td>Radiohead - Just</td>\n",
       "    </tr>\n",
       "    <tr>\n",
       "      <th>7770403</th>\n",
       "      <td>user_000412</td>\n",
       "      <td>2007-03-14 16:14:28+00:00</td>\n",
       "      <td>Tunng</td>\n",
       "      <td>Sweet William</td>\n",
       "      <td>Tunng - Sweet William</td>\n",
       "    </tr>\n",
       "    <tr>\n",
       "      <th>4406585</th>\n",
       "      <td>user_000229</td>\n",
       "      <td>2007-06-22 08:40:06+00:00</td>\n",
       "      <td>Metallica</td>\n",
       "      <td>Phantom Lord</td>\n",
       "      <td>Metallica - Phantom Lord</td>\n",
       "    </tr>\n",
       "    <tr>\n",
       "      <th>9223762</th>\n",
       "      <td>user_000496</td>\n",
       "      <td>2006-06-10 19:26:20+00:00</td>\n",
       "      <td>Pantera</td>\n",
       "      <td>Throes Of Rejection</td>\n",
       "      <td>Pantera - Throes Of Rejection</td>\n",
       "    </tr>\n",
       "  </tbody>\n",
       "</table>\n",
       "</div>"
      ],
      "text/plain": [
       "              user_id                 timestamp         artist  \\\n",
       "11742312  user_000628 2006-08-16 14:34:33+00:00  Talking Heads   \n",
       "17502363  user_000909 2007-03-14 04:50:23+00:00      Radiohead   \n",
       "7770403   user_000412 2007-03-14 16:14:28+00:00          Tunng   \n",
       "4406585   user_000229 2007-06-22 08:40:06+00:00      Metallica   \n",
       "9223762   user_000496 2006-06-10 19:26:20+00:00        Pantera   \n",
       "\n",
       "                        track                           song  \n",
       "11742312        Heaven (Live)  Talking Heads - Heaven (Live)  \n",
       "17502363                 Just               Radiohead - Just  \n",
       "7770403         Sweet William          Tunng - Sweet William  \n",
       "4406585          Phantom Lord       Metallica - Phantom Lord  \n",
       "9223762   Throes Of Rejection  Pantera - Throes Of Rejection  "
      ]
     },
     "execution_count": 31,
     "metadata": {},
     "output_type": "execute_result"
    }
   ],
   "source": [
    "df.sample(5)"
   ]
  },
  {
   "cell_type": "markdown",
   "metadata": {},
   "source": [
    "We ca drop the artist & track columns for now, since we will use the song colums for further analysis"
   ]
  },
  {
   "cell_type": "code",
   "execution_count": 35,
   "metadata": {},
   "outputs": [],
   "source": [
    "df.drop(columns=['artist', 'track'],inplace=True)"
   ]
  },
  {
   "cell_type": "markdown",
   "metadata": {},
   "source": [
    "Lets sample the data one last time"
   ]
  },
  {
   "cell_type": "code",
   "execution_count": 37,
   "metadata": {},
   "outputs": [
    {
     "data": {
      "text/html": [
       "<div>\n",
       "<style scoped>\n",
       "    .dataframe tbody tr th:only-of-type {\n",
       "        vertical-align: middle;\n",
       "    }\n",
       "\n",
       "    .dataframe tbody tr th {\n",
       "        vertical-align: top;\n",
       "    }\n",
       "\n",
       "    .dataframe thead th {\n",
       "        text-align: right;\n",
       "    }\n",
       "</style>\n",
       "<table border=\"1\" class=\"dataframe\">\n",
       "  <thead>\n",
       "    <tr style=\"text-align: right;\">\n",
       "      <th></th>\n",
       "      <th>user_id</th>\n",
       "      <th>timestamp</th>\n",
       "      <th>song</th>\n",
       "    </tr>\n",
       "  </thead>\n",
       "  <tbody>\n",
       "    <tr>\n",
       "      <th>2329584</th>\n",
       "      <td>user_000119</td>\n",
       "      <td>2007-03-08 17:14:57+00:00</td>\n",
       "      <td>Black Label Society - Give Yourself To Me</td>\n",
       "    </tr>\n",
       "    <tr>\n",
       "      <th>15904910</th>\n",
       "      <td>user_000824</td>\n",
       "      <td>2008-05-08 18:18:55+00:00</td>\n",
       "      <td>Reuben - Freddy Kreuger</td>\n",
       "    </tr>\n",
       "    <tr>\n",
       "      <th>16790440</th>\n",
       "      <td>user_000869</td>\n",
       "      <td>2008-04-26 10:06:06+00:00</td>\n",
       "      <td>Nightmares On Wax - Damn</td>\n",
       "    </tr>\n",
       "    <tr>\n",
       "      <th>12324500</th>\n",
       "      <td>user_000667</td>\n",
       "      <td>2006-07-05 12:38:51+00:00</td>\n",
       "      <td>Cheap Trick - I Want You To Want Me (Live)</td>\n",
       "    </tr>\n",
       "    <tr>\n",
       "      <th>156029</th>\n",
       "      <td>user_000006</td>\n",
       "      <td>2006-10-08 20:58:46+00:00</td>\n",
       "      <td>Metallica - Turn The Page</td>\n",
       "    </tr>\n",
       "  </tbody>\n",
       "</table>\n",
       "</div>"
      ],
      "text/plain": [
       "              user_id                 timestamp  \\\n",
       "2329584   user_000119 2007-03-08 17:14:57+00:00   \n",
       "15904910  user_000824 2008-05-08 18:18:55+00:00   \n",
       "16790440  user_000869 2008-04-26 10:06:06+00:00   \n",
       "12324500  user_000667 2006-07-05 12:38:51+00:00   \n",
       "156029    user_000006 2006-10-08 20:58:46+00:00   \n",
       "\n",
       "                                                song  \n",
       "2329584    Black Label Society - Give Yourself To Me  \n",
       "15904910                     Reuben - Freddy Kreuger  \n",
       "16790440                    Nightmares On Wax - Damn  \n",
       "12324500  Cheap Trick - I Want You To Want Me (Live)  \n",
       "156029                     Metallica - Turn The Page  "
      ]
     },
     "execution_count": 37,
     "metadata": {},
     "output_type": "execute_result"
    }
   ],
   "source": [
    "df.sample(5)"
   ]
  },
  {
   "cell_type": "markdown",
   "metadata": {},
   "source": [
    "### Part A\n",
    "\n",
    "\n",
    "Create a list of user IDs, along with the number of distinct songs each user has played"
   ]
  },
  {
   "cell_type": "code",
   "execution_count": 83,
   "metadata": {},
   "outputs": [],
   "source": [
    "distinct_songs_by_user = df.groupby('user_id')['song'].nunique().reset_index()"
   ]
  },
  {
   "cell_type": "code",
   "execution_count": 102,
   "metadata": {},
   "outputs": [],
   "source": [
    "# quick rename of the result column\n",
    "distinct_songs_by_user.rename(columns={'song':'count'},inplace=True)"
   ]
  },
  {
   "cell_type": "code",
   "execution_count": 104,
   "metadata": {},
   "outputs": [
    {
     "data": {
      "text/html": [
       "<div>\n",
       "<style scoped>\n",
       "    .dataframe tbody tr th:only-of-type {\n",
       "        vertical-align: middle;\n",
       "    }\n",
       "\n",
       "    .dataframe tbody tr th {\n",
       "        vertical-align: top;\n",
       "    }\n",
       "\n",
       "    .dataframe thead th {\n",
       "        text-align: right;\n",
       "    }\n",
       "</style>\n",
       "<table border=\"1\" class=\"dataframe\">\n",
       "  <thead>\n",
       "    <tr style=\"text-align: right;\">\n",
       "      <th></th>\n",
       "      <th>user_id</th>\n",
       "      <th>count</th>\n",
       "    </tr>\n",
       "  </thead>\n",
       "  <tbody>\n",
       "    <tr>\n",
       "      <th>0</th>\n",
       "      <td>user_000001</td>\n",
       "      <td>3143</td>\n",
       "    </tr>\n",
       "    <tr>\n",
       "      <th>1</th>\n",
       "      <td>user_000002</td>\n",
       "      <td>8537</td>\n",
       "    </tr>\n",
       "    <tr>\n",
       "      <th>2</th>\n",
       "      <td>user_000003</td>\n",
       "      <td>4682</td>\n",
       "    </tr>\n",
       "    <tr>\n",
       "      <th>3</th>\n",
       "      <td>user_000004</td>\n",
       "      <td>6210</td>\n",
       "    </tr>\n",
       "    <tr>\n",
       "      <th>4</th>\n",
       "      <td>user_000005</td>\n",
       "      <td>2014</td>\n",
       "    </tr>\n",
       "  </tbody>\n",
       "</table>\n",
       "</div>"
      ],
      "text/plain": [
       "       user_id  count\n",
       "0  user_000001   3143\n",
       "1  user_000002   8537\n",
       "2  user_000003   4682\n",
       "3  user_000004   6210\n",
       "4  user_000005   2014"
      ]
     },
     "execution_count": 104,
     "metadata": {},
     "output_type": "execute_result"
    }
   ],
   "source": [
    "distinct_songs_by_user.head()"
   ]
  },
  {
   "cell_type": "markdown",
   "metadata": {},
   "source": [
    " quick verfication"
   ]
  },
  {
   "cell_type": "markdown",
   "metadata": {},
   "source": [
    "quick sanity check reveals that user_000982 occurs 54 times. Yes I did manually go through the 55 entries as well to see if they are unique. But just incase lets try verifying it another way"
   ]
  },
  {
   "cell_type": "code",
   "execution_count": 100,
   "metadata": {},
   "outputs": [
    {
     "data": {
      "text/html": [
       "<div>\n",
       "<style scoped>\n",
       "    .dataframe tbody tr th:only-of-type {\n",
       "        vertical-align: middle;\n",
       "    }\n",
       "\n",
       "    .dataframe tbody tr th {\n",
       "        vertical-align: top;\n",
       "    }\n",
       "\n",
       "    .dataframe thead th {\n",
       "        text-align: right;\n",
       "    }\n",
       "</style>\n",
       "<table border=\"1\" class=\"dataframe\">\n",
       "  <thead>\n",
       "    <tr style=\"text-align: right;\">\n",
       "      <th></th>\n",
       "      <th>user_id</th>\n",
       "      <th>count</th>\n",
       "    </tr>\n",
       "  </thead>\n",
       "  <tbody>\n",
       "    <tr>\n",
       "      <th>974</th>\n",
       "      <td>user_000982</td>\n",
       "      <td>54</td>\n",
       "    </tr>\n",
       "  </tbody>\n",
       "</table>\n",
       "</div>"
      ],
      "text/plain": [
       "         user_id  count\n",
       "974  user_000982     54"
      ]
     },
     "execution_count": 100,
     "metadata": {},
     "output_type": "execute_result"
    }
   ],
   "source": [
    "distinct_songs_by_user[distinct_songs_by_user['user_id']=='user_000982']"
   ]
  },
  {
   "cell_type": "code",
   "execution_count": 101,
   "metadata": {},
   "outputs": [
    {
     "data": {
      "text/plain": [
       "user_id       1\n",
       "timestamp    55\n",
       "song         54\n",
       "dtype: int64"
      ]
     },
     "execution_count": 101,
     "metadata": {},
     "output_type": "execute_result"
    }
   ],
   "source": [
    "df[df['user_id']=='user_000982'].nunique()"
   ]
  }
 ],
 "metadata": {
  "kernelspec": {
   "display_name": "Python 3",
   "language": "python",
   "name": "python3"
  },
  "language_info": {
   "codemirror_mode": {
    "name": "ipython",
    "version": 3
   },
   "file_extension": ".py",
   "mimetype": "text/x-python",
   "name": "python",
   "nbconvert_exporter": "python",
   "pygments_lexer": "ipython3",
   "version": "3.7.3"
  }
 },
 "nbformat": 4,
 "nbformat_minor": 2
}
